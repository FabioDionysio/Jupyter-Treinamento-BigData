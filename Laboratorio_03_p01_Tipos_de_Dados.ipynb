{
 "cells": [
  {
   "cell_type": "markdown",
   "metadata": {},
   "source": [
    "# Lendo arquivos CSV "
   ]
  },
  {
   "cell_type": "code",
   "execution_count": null,
   "metadata": {},
   "outputs": [],
   "source": [
    "# Documentação pandas para leitura de arquivo csv\n",
    "# https://pandas.pydata.org/pandas-docs/stable/generated/pandas.read_csv.html"
   ]
  },
  {
   "cell_type": "code",
   "execution_count": 4,
   "metadata": {},
   "outputs": [],
   "source": [
    "# Importar biblioteca pandas: \n",
    "import pandas as pd \n",
    "\n",
    "path_file = ''\n",
    "name_file = 'titanic.csv'\n",
    "\n",
    "\n",
    "# Ler arquivo csv\n",
    "csv_df = pd.read_csv(path_file+name_file) "
   ]
  },
  {
   "cell_type": "code",
   "execution_count": 5,
   "metadata": {},
   "outputs": [
    {
     "data": {
      "text/html": [
       "<div>\n",
       "<style scoped>\n",
       "    .dataframe tbody tr th:only-of-type {\n",
       "        vertical-align: middle;\n",
       "    }\n",
       "\n",
       "    .dataframe tbody tr th {\n",
       "        vertical-align: top;\n",
       "    }\n",
       "\n",
       "    .dataframe thead th {\n",
       "        text-align: right;\n",
       "    }\n",
       "</style>\n",
       "<table border=\"1\" class=\"dataframe\">\n",
       "  <thead>\n",
       "    <tr style=\"text-align: right;\">\n",
       "      <th></th>\n",
       "      <th>PassengerId</th>\n",
       "      <th>Survived</th>\n",
       "      <th>Pclass</th>\n",
       "      <th>Name</th>\n",
       "      <th>Sex</th>\n",
       "      <th>Age</th>\n",
       "      <th>SibSp</th>\n",
       "      <th>Parch</th>\n",
       "      <th>Ticket</th>\n",
       "      <th>Fare</th>\n",
       "      <th>Cabin</th>\n",
       "      <th>Embarked</th>\n",
       "    </tr>\n",
       "  </thead>\n",
       "  <tbody>\n",
       "    <tr>\n",
       "      <th>0</th>\n",
       "      <td>1</td>\n",
       "      <td>0</td>\n",
       "      <td>3</td>\n",
       "      <td>Braund, Mr. Owen Harris</td>\n",
       "      <td>male</td>\n",
       "      <td>22.0</td>\n",
       "      <td>1</td>\n",
       "      <td>0</td>\n",
       "      <td>A/5 21171</td>\n",
       "      <td>7.2500</td>\n",
       "      <td>NaN</td>\n",
       "      <td>S</td>\n",
       "    </tr>\n",
       "    <tr>\n",
       "      <th>1</th>\n",
       "      <td>2</td>\n",
       "      <td>1</td>\n",
       "      <td>1</td>\n",
       "      <td>Cumings, Mrs. John Bradley (Florence Briggs Th...</td>\n",
       "      <td>female</td>\n",
       "      <td>38.0</td>\n",
       "      <td>1</td>\n",
       "      <td>0</td>\n",
       "      <td>PC 17599</td>\n",
       "      <td>71.2833</td>\n",
       "      <td>C85</td>\n",
       "      <td>C</td>\n",
       "    </tr>\n",
       "    <tr>\n",
       "      <th>2</th>\n",
       "      <td>3</td>\n",
       "      <td>1</td>\n",
       "      <td>3</td>\n",
       "      <td>Heikkinen, Miss. Laina</td>\n",
       "      <td>female</td>\n",
       "      <td>26.0</td>\n",
       "      <td>0</td>\n",
       "      <td>0</td>\n",
       "      <td>STON/O2. 3101282</td>\n",
       "      <td>7.9250</td>\n",
       "      <td>NaN</td>\n",
       "      <td>S</td>\n",
       "    </tr>\n",
       "    <tr>\n",
       "      <th>3</th>\n",
       "      <td>4</td>\n",
       "      <td>1</td>\n",
       "      <td>1</td>\n",
       "      <td>Futrelle, Mrs. Jacques Heath (Lily May Peel)</td>\n",
       "      <td>female</td>\n",
       "      <td>35.0</td>\n",
       "      <td>1</td>\n",
       "      <td>0</td>\n",
       "      <td>113803</td>\n",
       "      <td>53.1000</td>\n",
       "      <td>C123</td>\n",
       "      <td>S</td>\n",
       "    </tr>\n",
       "    <tr>\n",
       "      <th>4</th>\n",
       "      <td>5</td>\n",
       "      <td>0</td>\n",
       "      <td>3</td>\n",
       "      <td>Allen, Mr. William Henry</td>\n",
       "      <td>male</td>\n",
       "      <td>35.0</td>\n",
       "      <td>0</td>\n",
       "      <td>0</td>\n",
       "      <td>373450</td>\n",
       "      <td>8.0500</td>\n",
       "      <td>NaN</td>\n",
       "      <td>S</td>\n",
       "    </tr>\n",
       "  </tbody>\n",
       "</table>\n",
       "</div>"
      ],
      "text/plain": [
       "   PassengerId  Survived  Pclass  \\\n",
       "0            1         0       3   \n",
       "1            2         1       1   \n",
       "2            3         1       3   \n",
       "3            4         1       1   \n",
       "4            5         0       3   \n",
       "\n",
       "                                                Name     Sex   Age  SibSp  \\\n",
       "0                            Braund, Mr. Owen Harris    male  22.0      1   \n",
       "1  Cumings, Mrs. John Bradley (Florence Briggs Th...  female  38.0      1   \n",
       "2                             Heikkinen, Miss. Laina  female  26.0      0   \n",
       "3       Futrelle, Mrs. Jacques Heath (Lily May Peel)  female  35.0      1   \n",
       "4                           Allen, Mr. William Henry    male  35.0      0   \n",
       "\n",
       "   Parch            Ticket     Fare Cabin Embarked  \n",
       "0      0         A/5 21171   7.2500   NaN        S  \n",
       "1      0          PC 17599  71.2833   C85        C  \n",
       "2      0  STON/O2. 3101282   7.9250   NaN        S  \n",
       "3      0            113803  53.1000  C123        S  \n",
       "4      0            373450   8.0500   NaN        S  "
      ]
     },
     "execution_count": 5,
     "metadata": {},
     "output_type": "execute_result"
    }
   ],
   "source": [
    "# Verificar 5 primeiras linhas do dataframe que está na memória \n",
    "csv_df.head()"
   ]
  },
  {
   "cell_type": "code",
   "execution_count": 6,
   "metadata": {},
   "outputs": [
    {
     "data": {
      "text/plain": [
       "(891, 12)"
      ]
     },
     "execution_count": 6,
     "metadata": {},
     "output_type": "execute_result"
    }
   ],
   "source": [
    "# Verificar quantidade de linhas e colunas(variáveis) na tabela\n",
    "csv_df.shape"
   ]
  },
  {
   "cell_type": "code",
   "execution_count": 7,
   "metadata": {},
   "outputs": [
    {
     "data": {
      "text/plain": [
       "PassengerId      int64\n",
       "Survived         int64\n",
       "Pclass           int64\n",
       "Name            object\n",
       "Sex             object\n",
       "Age            float64\n",
       "SibSp            int64\n",
       "Parch            int64\n",
       "Ticket          object\n",
       "Fare           float64\n",
       "Cabin           object\n",
       "Embarked        object\n",
       "dtype: object"
      ]
     },
     "execution_count": 7,
     "metadata": {},
     "output_type": "execute_result"
    }
   ],
   "source": [
    "# Vrificando os tipos de variáveis que temos na tabela\n",
    "csv_df.dtypes"
   ]
  },
  {
   "cell_type": "markdown",
   "metadata": {},
   "source": [
    "# Lendo arquivos Parquet (Não particionados)"
   ]
  },
  {
   "cell_type": "code",
   "execution_count": 8,
   "metadata": {},
   "outputs": [],
   "source": [
    "# Documentação pandas para leitura de arquivo no formato parquet não particionado\n",
    "# https://pandas.pydata.org/pandas-docs/version/0.21/generated/pandas.read_parquet.html"
   ]
  },
  {
   "cell_type": "code",
   "execution_count": 13,
   "metadata": {},
   "outputs": [
    {
     "name": "stdout",
     "output_type": "stream",
     "text": [
      "Requirement already satisfied: pyarrow in /opt/conda/lib/python3.6/site-packages\n",
      "Requirement already satisfied: six>=1.0.0 in /opt/conda/lib/python3.6/site-packages (from pyarrow)\n",
      "Requirement already satisfied: numpy>=1.14 in /opt/conda/lib/python3.6/site-packages (from pyarrow)\n",
      "\u001b[33mYou are using pip version 9.0.1, however version 18.1 is available.\n",
      "You should consider upgrading via the 'pip install --upgrade pip' command.\u001b[0m\n"
     ]
    }
   ],
   "source": [
    "# Instalando pyarrow (Não é recomendado instalar por aqui, o ideal é fazer via terminal de acesso SSH ao cluster)\n",
    "import sys\n",
    "!{sys.executable} -m pip install pyarrow"
   ]
  },
  {
   "cell_type": "code",
   "execution_count": 4,
   "metadata": {},
   "outputs": [
    {
     "name": "stdout",
     "output_type": "stream",
     "text": [
      "Collecting ijson\n",
      "  Downloading https://files.pythonhosted.org/packages/7f/e9/8508c5f4987ba238a2b169e582c1f70a47272b22a2f1fb06b9318201bb9e/ijson-2.3-py2.py3-none-any.whl\n",
      "Installing collected packages: ijson\n",
      "Successfully installed ijson-2.3\n",
      "\u001b[33mYou are using pip version 9.0.1, however version 18.1 is available.\n",
      "You should consider upgrading via the 'pip install --upgrade pip' command.\u001b[0m\n"
     ]
    }
   ],
   "source": [
    "# Instalando ijson (Não é recomendado instalar por aqui, o ideal é fazer via terminal de acesso SSH ao cluster)\n",
    "import sys\n",
    "!{sys.executable} -m pip install ijson"
   ]
  },
  {
   "cell_type": "code",
   "execution_count": 14,
   "metadata": {},
   "outputs": [],
   "source": [
    "# Lendo arquivo parquet \n",
    "parquet_df = pd.read_parquet('file.parquet', engine='pyarrow')"
   ]
  },
  {
   "cell_type": "code",
   "execution_count": 15,
   "metadata": {},
   "outputs": [
    {
     "data": {
      "text/html": [
       "<div>\n",
       "<style scoped>\n",
       "    .dataframe tbody tr th:only-of-type {\n",
       "        vertical-align: middle;\n",
       "    }\n",
       "\n",
       "    .dataframe tbody tr th {\n",
       "        vertical-align: top;\n",
       "    }\n",
       "\n",
       "    .dataframe thead th {\n",
       "        text-align: right;\n",
       "    }\n",
       "</style>\n",
       "<table border=\"1\" class=\"dataframe\">\n",
       "  <thead>\n",
       "    <tr style=\"text-align: right;\">\n",
       "      <th></th>\n",
       "      <th>b'id'</th>\n",
       "      <th>b'target'</th>\n",
       "      <th>b'ps_ind_01'</th>\n",
       "      <th>b'ps_ind_02_cat'</th>\n",
       "      <th>b'ps_ind_03'</th>\n",
       "      <th>b'ps_ind_04_cat'</th>\n",
       "      <th>b'ps_ind_05_cat'</th>\n",
       "      <th>b'ps_ind_06_bin'</th>\n",
       "      <th>b'ps_ind_07_bin'</th>\n",
       "      <th>b'ps_ind_08_bin'</th>\n",
       "      <th>...</th>\n",
       "      <th>b'ps_calc_11'</th>\n",
       "      <th>b'ps_calc_12'</th>\n",
       "      <th>b'ps_calc_13'</th>\n",
       "      <th>b'ps_calc_14'</th>\n",
       "      <th>b'ps_calc_15_bin'</th>\n",
       "      <th>b'ps_calc_16_bin'</th>\n",
       "      <th>b'ps_calc_17_bin'</th>\n",
       "      <th>b'ps_calc_18_bin'</th>\n",
       "      <th>b'ps_calc_19_bin'</th>\n",
       "      <th>b'ps_calc_20_bin'</th>\n",
       "    </tr>\n",
       "  </thead>\n",
       "  <tbody>\n",
       "    <tr>\n",
       "      <th>0</th>\n",
       "      <td>7</td>\n",
       "      <td>0</td>\n",
       "      <td>2</td>\n",
       "      <td>2</td>\n",
       "      <td>5</td>\n",
       "      <td>1</td>\n",
       "      <td>0</td>\n",
       "      <td>0</td>\n",
       "      <td>1</td>\n",
       "      <td>0</td>\n",
       "      <td>...</td>\n",
       "      <td>9</td>\n",
       "      <td>1</td>\n",
       "      <td>5</td>\n",
       "      <td>8</td>\n",
       "      <td>0</td>\n",
       "      <td>1</td>\n",
       "      <td>1</td>\n",
       "      <td>0</td>\n",
       "      <td>0</td>\n",
       "      <td>1</td>\n",
       "    </tr>\n",
       "    <tr>\n",
       "      <th>1</th>\n",
       "      <td>9</td>\n",
       "      <td>0</td>\n",
       "      <td>1</td>\n",
       "      <td>1</td>\n",
       "      <td>7</td>\n",
       "      <td>0</td>\n",
       "      <td>0</td>\n",
       "      <td>0</td>\n",
       "      <td>0</td>\n",
       "      <td>1</td>\n",
       "      <td>...</td>\n",
       "      <td>3</td>\n",
       "      <td>1</td>\n",
       "      <td>1</td>\n",
       "      <td>9</td>\n",
       "      <td>0</td>\n",
       "      <td>1</td>\n",
       "      <td>1</td>\n",
       "      <td>0</td>\n",
       "      <td>1</td>\n",
       "      <td>0</td>\n",
       "    </tr>\n",
       "    <tr>\n",
       "      <th>2</th>\n",
       "      <td>13</td>\n",
       "      <td>0</td>\n",
       "      <td>5</td>\n",
       "      <td>4</td>\n",
       "      <td>9</td>\n",
       "      <td>1</td>\n",
       "      <td>0</td>\n",
       "      <td>0</td>\n",
       "      <td>0</td>\n",
       "      <td>1</td>\n",
       "      <td>...</td>\n",
       "      <td>4</td>\n",
       "      <td>2</td>\n",
       "      <td>7</td>\n",
       "      <td>7</td>\n",
       "      <td>0</td>\n",
       "      <td>1</td>\n",
       "      <td>1</td>\n",
       "      <td>0</td>\n",
       "      <td>1</td>\n",
       "      <td>0</td>\n",
       "    </tr>\n",
       "    <tr>\n",
       "      <th>3</th>\n",
       "      <td>16</td>\n",
       "      <td>0</td>\n",
       "      <td>0</td>\n",
       "      <td>1</td>\n",
       "      <td>2</td>\n",
       "      <td>0</td>\n",
       "      <td>0</td>\n",
       "      <td>1</td>\n",
       "      <td>0</td>\n",
       "      <td>0</td>\n",
       "      <td>...</td>\n",
       "      <td>2</td>\n",
       "      <td>2</td>\n",
       "      <td>4</td>\n",
       "      <td>9</td>\n",
       "      <td>0</td>\n",
       "      <td>0</td>\n",
       "      <td>0</td>\n",
       "      <td>0</td>\n",
       "      <td>0</td>\n",
       "      <td>0</td>\n",
       "    </tr>\n",
       "    <tr>\n",
       "      <th>4</th>\n",
       "      <td>17</td>\n",
       "      <td>0</td>\n",
       "      <td>0</td>\n",
       "      <td>2</td>\n",
       "      <td>0</td>\n",
       "      <td>1</td>\n",
       "      <td>0</td>\n",
       "      <td>1</td>\n",
       "      <td>0</td>\n",
       "      <td>0</td>\n",
       "      <td>...</td>\n",
       "      <td>3</td>\n",
       "      <td>1</td>\n",
       "      <td>1</td>\n",
       "      <td>3</td>\n",
       "      <td>0</td>\n",
       "      <td>0</td>\n",
       "      <td>0</td>\n",
       "      <td>1</td>\n",
       "      <td>1</td>\n",
       "      <td>0</td>\n",
       "    </tr>\n",
       "  </tbody>\n",
       "</table>\n",
       "<p>5 rows × 59 columns</p>\n",
       "</div>"
      ],
      "text/plain": [
       "   b'id'  b'target'  b'ps_ind_01'  b'ps_ind_02_cat'  b'ps_ind_03'  \\\n",
       "0      7          0             2                 2             5   \n",
       "1      9          0             1                 1             7   \n",
       "2     13          0             5                 4             9   \n",
       "3     16          0             0                 1             2   \n",
       "4     17          0             0                 2             0   \n",
       "\n",
       "   b'ps_ind_04_cat'  b'ps_ind_05_cat'  b'ps_ind_06_bin'  b'ps_ind_07_bin'  \\\n",
       "0                 1                 0                 0                 1   \n",
       "1                 0                 0                 0                 0   \n",
       "2                 1                 0                 0                 0   \n",
       "3                 0                 0                 1                 0   \n",
       "4                 1                 0                 1                 0   \n",
       "\n",
       "   b'ps_ind_08_bin'        ...          b'ps_calc_11'  b'ps_calc_12'  \\\n",
       "0                 0        ...                      9              1   \n",
       "1                 1        ...                      3              1   \n",
       "2                 1        ...                      4              2   \n",
       "3                 0        ...                      2              2   \n",
       "4                 0        ...                      3              1   \n",
       "\n",
       "   b'ps_calc_13'  b'ps_calc_14'  b'ps_calc_15_bin'  b'ps_calc_16_bin'  \\\n",
       "0              5              8                  0                  1   \n",
       "1              1              9                  0                  1   \n",
       "2              7              7                  0                  1   \n",
       "3              4              9                  0                  0   \n",
       "4              1              3                  0                  0   \n",
       "\n",
       "   b'ps_calc_17_bin'  b'ps_calc_18_bin'  b'ps_calc_19_bin'  b'ps_calc_20_bin'  \n",
       "0                  1                  0                  0                  1  \n",
       "1                  1                  0                  1                  0  \n",
       "2                  1                  0                  1                  0  \n",
       "3                  0                  0                  0                  0  \n",
       "4                  0                  1                  1                  0  \n",
       "\n",
       "[5 rows x 59 columns]"
      ]
     },
     "execution_count": 15,
     "metadata": {},
     "output_type": "execute_result"
    }
   ],
   "source": [
    "parquet_df.head()"
   ]
  },
  {
   "cell_type": "code",
   "execution_count": 16,
   "metadata": {},
   "outputs": [
    {
     "data": {
      "text/plain": [
       "(595212, 59)"
      ]
     },
     "execution_count": 16,
     "metadata": {},
     "output_type": "execute_result"
    }
   ],
   "source": [
    "parquet_df.shape"
   ]
  },
  {
   "cell_type": "markdown",
   "metadata": {},
   "source": [
    "# Lendo arquivos JSON (JavaScript Object Notation)"
   ]
  },
  {
   "cell_type": "code",
   "execution_count": 116,
   "metadata": {},
   "outputs": [
    {
     "name": "stdout",
     "output_type": "stream",
     "text": [
      "Dataframe gerado pelo JSON\n"
     ]
    },
    {
     "data": {
      "text/html": [
       "<div>\n",
       "<style scoped>\n",
       "    .dataframe tbody tr th:only-of-type {\n",
       "        vertical-align: middle;\n",
       "    }\n",
       "\n",
       "    .dataframe tbody tr th {\n",
       "        vertical-align: top;\n",
       "    }\n",
       "\n",
       "    .dataframe thead th {\n",
       "        text-align: right;\n",
       "    }\n",
       "</style>\n",
       "<table border=\"1\" class=\"dataframe\">\n",
       "  <thead>\n",
       "    <tr style=\"text-align: right;\">\n",
       "      <th></th>\n",
       "      <th>Latitude</th>\n",
       "      <th>Longitude</th>\n",
       "      <th>Nome</th>\n",
       "    </tr>\n",
       "  </thead>\n",
       "  <tbody>\n",
       "    <tr>\n",
       "      <th>0</th>\n",
       "      <td>-23.627334</td>\n",
       "      <td>-46.636941</td>\n",
       "      <td>Bruno Jardim</td>\n",
       "    </tr>\n",
       "    <tr>\n",
       "      <th>1</th>\n",
       "      <td>-23.627334</td>\n",
       "      <td>-46.636941</td>\n",
       "      <td>Tâmara A. Jardim</td>\n",
       "    </tr>\n",
       "    <tr>\n",
       "      <th>2</th>\n",
       "      <td>-23.634438</td>\n",
       "      <td>-46.724657</td>\n",
       "      <td>Rauhe Abdulhamid</td>\n",
       "    </tr>\n",
       "  </tbody>\n",
       "</table>\n",
       "</div>"
      ],
      "text/plain": [
       "    Latitude  Longitude              Nome\n",
       "0 -23.627334 -46.636941      Bruno Jardim\n",
       "1 -23.627334 -46.636941  Tâmara A. Jardim\n",
       "2 -23.634438 -46.724657  Rauhe Abdulhamid"
      ]
     },
     "execution_count": 116,
     "metadata": {},
     "output_type": "execute_result"
    }
   ],
   "source": [
    "import pandas as pd\n",
    "\n",
    "# Definindo JSON de forma manual\n",
    "end_turma =\"\"\"\n",
    "        {\n",
    "            \"Nome\":{\n",
    "                     \"0\":\"Bruno Jardim\",\n",
    "                     \"1\":\"Tâmara A. Jardim\",\n",
    "                     \"2\":\"Rauhe Abdulhamid\"\n",
    "                         },\n",
    "            \"Latitude\":{\n",
    "                    \"0\":-23.6273344,\n",
    "                    \"1\":-23.6273344,\n",
    "                    \"2\":-23.6344377\n",
    "                    \n",
    "                        },\n",
    "            \"Longitude\":{\n",
    "                    \"0\":-46.6369415,\n",
    "                    \"1\":-46.6369415,\n",
    "                    \"2\":-46.7246573                    \n",
    "                         }\n",
    "        }\"\"\"\n",
    "\n",
    "# Traduzindo JSON para um dataframe (pandas)\n",
    "df = pd.read_json(end_turma)\n",
    "\n",
    "print('Dataframe gerado pelo JSON')\n",
    "df.head(10)"
   ]
  },
  {
   "cell_type": "code",
   "execution_count": 117,
   "metadata": {},
   "outputs": [
    {
     "data": {
      "text/html": [
       "<div style=\"width:100%;\"><div style=\"position:relative;width:100%;height:0;padding-bottom:60%;\"><iframe src=\"data:text/html;charset=utf-8;base64,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\" style=\"position:absolute;width:100%;height:100%;left:0;top:0;border:none !important;\" allowfullscreen webkitallowfullscreen mozallowfullscreen></iframe></div></div>"
      ],
      "text/plain": [
       "<folium.folium.Map at 0x7fc0a1e4f6d8>"
      ]
     },
     "execution_count": 117,
     "metadata": {},
     "output_type": "execute_result"
    }
   ],
   "source": [
    "# Vamos colocar os endereços com latitude e longitude no Mapa\n",
    "# http://www.mapcoordinates.net/pt\n",
    "\n",
    "import folium\n",
    "\n",
    "location = df['Latitude'].mean(), df['Longitude'].mean()\n",
    "locationlist = df[[\"Latitude\",\"Longitude\"]].values.tolist()\n",
    "labels = df[\"Nome\"].values.tolist()\n",
    "\n",
    "m = folium.Map(location=location, zoom_start=12)\n",
    "for point in range(len(locationlist)):\n",
    "    popup = folium.Popup(labels[point], parse_html=True)\n",
    "    folium.Marker(locationlist[point], popup=popup).add_to(m)\n",
    "m"
   ]
  },
  {
   "cell_type": "markdown",
   "metadata": {},
   "source": [
    "# Outro Exemplo com mais dados"
   ]
  },
  {
   "cell_type": "code",
   "execution_count": 118,
   "metadata": {},
   "outputs": [
    {
     "data": {
      "text/html": [
       "<div>\n",
       "<style scoped>\n",
       "    .dataframe tbody tr th:only-of-type {\n",
       "        vertical-align: middle;\n",
       "    }\n",
       "\n",
       "    .dataframe tbody tr th {\n",
       "        vertical-align: top;\n",
       "    }\n",
       "\n",
       "    .dataframe thead th {\n",
       "        text-align: right;\n",
       "    }\n",
       "</style>\n",
       "<table border=\"1\" class=\"dataframe\">\n",
       "  <thead>\n",
       "    <tr style=\"text-align: right;\">\n",
       "      <th></th>\n",
       "      <th>Cafe Name</th>\n",
       "      <th>Latitude</th>\n",
       "      <th>Longitude</th>\n",
       "      <th>Street</th>\n",
       "      <th>id</th>\n",
       "    </tr>\n",
       "  </thead>\n",
       "  <tbody>\n",
       "    <tr>\n",
       "      <th>0</th>\n",
       "      <td>Four Barrel Coffee</td>\n",
       "      <td>37.767316</td>\n",
       "      <td>-122.421948</td>\n",
       "      <td>Valencia Street</td>\n",
       "      <td>411083201</td>\n",
       "    </tr>\n",
       "    <tr>\n",
       "      <th>1</th>\n",
       "      <td>Muddy Waters</td>\n",
       "      <td>37.764500</td>\n",
       "      <td>-122.421681</td>\n",
       "      <td>Valencia Street</td>\n",
       "      <td>418513660</td>\n",
       "    </tr>\n",
       "    <tr>\n",
       "      <th>10</th>\n",
       "      <td>Church Street Cafe</td>\n",
       "      <td>37.766425</td>\n",
       "      <td>-122.429039</td>\n",
       "      <td>None</td>\n",
       "      <td>2187987262</td>\n",
       "    </tr>\n",
       "    <tr>\n",
       "      <th>11</th>\n",
       "      <td>Anderson Bakery</td>\n",
       "      <td>37.777038</td>\n",
       "      <td>-122.417570</td>\n",
       "      <td>None</td>\n",
       "      <td>2411692096</td>\n",
       "    </tr>\n",
       "    <tr>\n",
       "      <th>12</th>\n",
       "      <td>Blue Bottle Coffee</td>\n",
       "      <td>37.776311</td>\n",
       "      <td>-122.423256</td>\n",
       "      <td>None</td>\n",
       "      <td>2411698457</td>\n",
       "    </tr>\n",
       "    <tr>\n",
       "      <th>13</th>\n",
       "      <td>mercury cafe</td>\n",
       "      <td>37.773986</td>\n",
       "      <td>-122.424226</td>\n",
       "      <td>Octavia Street</td>\n",
       "      <td>2474058013</td>\n",
       "    </tr>\n",
       "    <tr>\n",
       "      <th>14</th>\n",
       "      <td>gourmet and more</td>\n",
       "      <td>37.774748</td>\n",
       "      <td>-122.422688</td>\n",
       "      <td>None</td>\n",
       "      <td>2474058022</td>\n",
       "    </tr>\n",
       "    <tr>\n",
       "      <th>15</th>\n",
       "      <td>Cumaica</td>\n",
       "      <td>37.775488</td>\n",
       "      <td>-122.415900</td>\n",
       "      <td>Mission Street</td>\n",
       "      <td>2881830804</td>\n",
       "    </tr>\n",
       "    <tr>\n",
       "      <th>16</th>\n",
       "      <td>All Star Cafe</td>\n",
       "      <td>37.775217</td>\n",
       "      <td>-122.419518</td>\n",
       "      <td>Market Street</td>\n",
       "      <td>2895323815</td>\n",
       "    </tr>\n",
       "    <tr>\n",
       "      <th>17</th>\n",
       "      <td>Boston Cafe</td>\n",
       "      <td>37.775914</td>\n",
       "      <td>-122.419191</td>\n",
       "      <td>Van Ness Avenue</td>\n",
       "      <td>2895323816</td>\n",
       "    </tr>\n",
       "  </tbody>\n",
       "</table>\n",
       "</div>"
      ],
      "text/plain": [
       "             Cafe Name   Latitude   Longitude           Street          id\n",
       "0   Four Barrel Coffee  37.767316 -122.421948  Valencia Street   411083201\n",
       "1         Muddy Waters  37.764500 -122.421681  Valencia Street   418513660\n",
       "10  Church Street Cafe  37.766425 -122.429039             None  2187987262\n",
       "11     Anderson Bakery  37.777038 -122.417570             None  2411692096\n",
       "12  Blue Bottle Coffee  37.776311 -122.423256             None  2411698457\n",
       "13        mercury cafe  37.773986 -122.424226   Octavia Street  2474058013\n",
       "14    gourmet and more  37.774748 -122.422688             None  2474058022\n",
       "15             Cumaica  37.775488 -122.415900   Mission Street  2881830804\n",
       "16       All Star Cafe  37.775217 -122.419518    Market Street  2895323815\n",
       "17         Boston Cafe  37.775914 -122.419191  Van Ness Avenue  2895323816"
      ]
     },
     "execution_count": 118,
     "metadata": {},
     "output_type": "execute_result"
    }
   ],
   "source": [
    "import pandas as pd\n",
    "\n",
    "data = \"\"\"\n",
    "{\n",
    "    \"id\":{\n",
    "            \"0\":411083201,\n",
    "            \"1\":418513660,\n",
    "            \"2\":528057543,\n",
    "            \"3\":586713622,\n",
    "            \"4\":647656728,\n",
    "            \"5\":647656785,\n",
    "            \"6\":1493456455,\n",
    "            \"7\":1493456487,\n",
    "            \"8\":2005894602,\n",
    "            \"9\":2095344770,\n",
    "            \"10\":2187987262,\n",
    "            \"11\":2411692096,\n",
    "            \"12\":2411698457,\n",
    "            \"13\":2474058013,\n",
    "            \"14\":2474058022,\n",
    "            \"15\":2881830804,\n",
    "            \"16\":2895323815,\n",
    "            \"17\":2895323816,\n",
    "            \"18\":2983919102,\n",
    "            \"19\":3321734312,\n",
    "            \"20\":3641568148,\n",
    "            \"21\":4010355532,\n",
    "            \"22\":4030622426,\n",
    "            \"23\":4037746568,\n",
    "            \"24\":4055719117,\n",
    "            \"25\":4259001279,\n",
    "            \"26\":4340535594,\n",
    "            \"27\":4625994189,\n",
    "            \"28\":4666687025\n",
    "            },\n",
    "    \"Latitude\":{\"0\":37.7673162,\"1\":37.7645003,\"2\":37.7682118,\"3\":37.7648492,\"4\":37.771672,\"5\":37.7721693,\"6\":37.7763591,\"7\":37.777046,\"8\":37.7690716,\"9\":37.766319,\"10\":37.7664253,\"11\":37.7770377,\"12\":37.7763106,\"13\":37.7739857,\"14\":37.774748,\"15\":37.775488,\"16\":37.7752166,\"17\":37.7759142,\"18\":37.7744588,\"19\":37.7760172,\"20\":37.7762395,\"21\":37.765011,\"22\":37.769195,\"23\":37.7750452,\"24\":37.7726713,\"25\":37.7717782,\"26\":37.7745253,\"27\":37.7768943,\"28\":37.7752822},\"Longitude\":{\"0\":-122.4219479,\"1\":-122.4216812,\"2\":-122.4223857,\"3\":-122.4320119,\"4\":-122.4331366,\"5\":-122.4307254,\"6\":-122.4180877,\"7\":-122.4172737,\"8\":-122.4277243,\"9\":-122.417422,\"10\":-122.4290387,\"11\":-122.4175698,\"12\":-122.4232558,\"13\":-122.424226,\"14\":-122.4226877,\"15\":-122.4159,\"16\":-122.4195185,\"17\":-122.4191912,\"18\":-122.4205881,\"19\":-122.4314951,\"20\":-122.4168763,\"21\":-122.4226685,\"22\":-122.4315398,\"23\":-122.4210561,\"24\":-122.4220741,\"25\":-122.4167145,\"26\":-122.4306476,\"27\":-122.4245402,\"28\":-122.4161381},\"Cafe Name\":{\"0\":\"Four Barrel Coffee\",\"1\":\"Muddy Waters\",\"2\":\"Carlin\\'s Cafe\",\"3\":\"Peet\\'s Coffee & Tea\",\"4\":\"Nectar\",\"5\":\"Cafe International\",\"6\":\"Ma\\'velous\",\"7\":\"Starbucks\",\"8\":\"Starbucks\",\"9\":\"Flying Pig Bistro\",\"10\":\"Church Street Cafe\",\"11\":\"Anderson Bakery\",\"12\":\"Blue Bottle Coffee\",\"13\":\"mercury cafe\",\"14\":\"gourmet and more\",\"15\":\"Cumaica\",\"16\":\"All Star Cafe\",\"17\":\"Boston Cafe\",\"18\":\"Javalencia Cafe\",\"19\":\"Alamo Square Cafe\",\"20\":\"Blue Bottle Coffee\",\"21\":\"Stanza\",\"22\":\"Duboce Park Cafe\",\"23\":\"Eden Cafe\",\"24\":\"Delessio Market & Bakery\",\"25\":\"Gaslamp Cafe\",\"26\":\"The Center SF Tea House\",\"27\":\"Cafe la Vie\",\"28\":\"Peet\\'s Coffee\"},\"Street\":{\"0\":\"Valencia Street\",\"1\":\"Valencia Street\",\"2\":\"Valencia Street\",\"3\":\"Market Street\",\"4\":\"Haight Street\",\"5\":\"Haight Street\",\"6\":\"Market Street\",\"7\":\"Market Street\",\"8\":\"Market Street\",\"9\":\"South Van Ness Avenue\",\"10\":null,\"11\":null,\"12\":null,\"13\":\"Octavia Street\",\"14\":null,\"15\":\"Mission Street\",\"16\":\"Market Street\",\"17\":\"Van Ness Avenue\",\"18\":\"Market Street\",\"19\":null,\"20\":\"Market Street\",\"21\":null,\"22\":\"Sanchez Street\",\"23\":\"Franklin Street\",\"24\":\"Market Street\",\"25\":\"Howard Street\",\"26\":\"Fillmore Street\",\"27\":\"Octavia Street\",\"28\":null}}\"\"\"\n",
    "\n",
    "df = pd.read_json(data)\n",
    "\n",
    "df.head(10)"
   ]
  },
  {
   "cell_type": "code",
   "execution_count": 119,
   "metadata": {},
   "outputs": [
    {
     "data": {
      "text/html": [
       "<div style=\"width:100%;\"><div style=\"position:relative;width:100%;height:0;padding-bottom:60%;\"><iframe src=\"data:text/html;charset=utf-8;base64,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\" style=\"position:absolute;width:100%;height:100%;left:0;top:0;border:none !important;\" allowfullscreen webkitallowfullscreen mozallowfullscreen></iframe></div></div>"
      ],
      "text/plain": [
       "<folium.folium.Map at 0x7fc0a2171630>"
      ]
     },
     "execution_count": 119,
     "metadata": {},
     "output_type": "execute_result"
    }
   ],
   "source": [
    "import folium\n",
    "location = df['Latitude'].mean(), df['Longitude'].mean()\n",
    "locationlist = df[[\"Latitude\",\"Longitude\"]].values.tolist()\n",
    "labels = df[\"Cafe Name\"].values.tolist()\n",
    "\n",
    "m = folium.Map(location=location, zoom_start=14)\n",
    "for point in range(len(locationlist)):\n",
    "    popup = folium.Popup(labels[point], parse_html=True)\n",
    "    folium.Marker(locationlist[point], popup=popup).add_to(m)\n",
    "m"
   ]
  },
  {
   "cell_type": "code",
   "execution_count": 126,
   "metadata": {},
   "outputs": [
    {
     "data": {
      "text/html": [
       "<div style=\"width:100%;\"><div style=\"position:relative;width:100%;height:0;padding-bottom:60%;\"><iframe src=\"data:text/html;charset=utf-8;base64,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\" style=\"position:absolute;width:100%;height:100%;left:0;top:0;border:none !important;\" allowfullscreen webkitallowfullscreen mozallowfullscreen></iframe></div></div>"
      ],
      "text/plain": [
       "<folium.folium.Map at 0x7fc0b2a579b0>"
      ]
     },
     "execution_count": 126,
     "metadata": {},
     "output_type": "execute_result"
    }
   ],
   "source": [
    "# Exemplo para um único endereço\n",
    "latitude=-23.6273344\n",
    "longitude=-46.6369415\n",
    "raio_circulo = 30\n",
    "nome_local='Minha área, cai fora !!'\n",
    "zoom_start=20\n",
    "\n",
    "#-------- Gerar Mapa --------------------------\n",
    "location = list([latitude,longitude])\n",
    "casa = folium.Map(location=location, zoom_start=zoom_start)\n",
    "labels = list(['Casa'])\n",
    "popup = folium.Popup(labels, parse_html=True)\n",
    "folium.Circle(location, raio_circulo, fill=True).add_child(folium.Popup(nome_local, parse_html=True)).add_to(casa)\n",
    "casa"
   ]
  },
  {
   "cell_type": "code",
   "execution_count": null,
   "metadata": {},
   "outputs": [],
   "source": []
  },
  {
   "cell_type": "markdown",
   "metadata": {},
   "source": [
    "# Exemplo carregando dados de API online (URL)"
   ]
  },
  {
   "cell_type": "code",
   "execution_count": null,
   "metadata": {},
   "outputs": [],
   "source": [
    "# https://catalog.data.gov/dataset/traffic-violations-56dda"
   ]
  },
  {
   "cell_type": "code",
   "execution_count": 1,
   "metadata": {},
   "outputs": [],
   "source": [
    "import urllib.request, json \n",
    "with urllib.request.urlopen(\"https://data.montgomerycountymd.gov/api/views/4mse-ku6q/rows.json?accessType=DOWNLOAD\") as url:\n",
    "    data = json.loads(url.read().decode())\n",
    "    #print(data)"
   ]
  },
  {
   "cell_type": "code",
   "execution_count": 2,
   "metadata": {},
   "outputs": [],
   "source": [
    "# Gravando arquivo que esta na memoria no formato JSON (disco)\n",
    "import json\n",
    "with open('data.json', 'w') as outfile:\n",
    "    json.dump(data, outfile)"
   ]
  },
  {
   "cell_type": "code",
   "execution_count": 5,
   "metadata": {},
   "outputs": [],
   "source": [
    "import ijson\n",
    "\n",
    "filename = \"md_traffic.json\"\n",
    "with open(filename, 'r') as f:\n",
    "    objects = ijson.items(f, 'meta.view.columns.item')\n",
    "    columns = list(objects)"
   ]
  },
  {
   "cell_type": "code",
   "execution_count": 6,
   "metadata": {},
   "outputs": [
    {
     "name": "stdout",
     "output_type": "stream",
     "text": [
      "{'@type': 'dcat:Dataset', 'accessLevel': 'public', 'contactPoint': {'@type': 'vcard:Contact', 'fn': 'MCG ESB Service'}, 'description': 'This dataset contains traffic violation information from all electronic traffic violations issued in the County.  Any information that can be used to uniquely identify the vehicle, the vehicle owner or the officer issuing the violation will not be published.\\r\\n\\r\\nUpdate Frequency:  Daily', 'distribution': [{'@type': 'dcat:Distribution', 'downloadURL': 'https://data.montgomerycountymd.gov/api/views/4mse-ku6q/rows.csv?accessType=DOWNLOAD', 'mediaType': 'text/csv'}, {'@type': 'dcat:Distribution', 'downloadURL': 'https://data.montgomerycountymd.gov/api/views/4mse-ku6q/rows.rdf?accessType=DOWNLOAD', 'mediaType': 'application/rdf+xml'}, {'@type': 'dcat:Distribution', 'downloadURL': 'https://data.montgomerycountymd.gov/api/views/4mse-ku6q/rows.json?accessType=DOWNLOAD', 'mediaType': 'application/json'}, {'@type': 'dcat:Distribution', 'downloadURL': 'https://data.montgomerycountymd.gov/api/views/4mse-ku6q/rows.xml?accessType=DOWNLOAD', 'mediaType': 'application/xml'}], 'identifier': 'https://data.montgomerycountymd.gov/api/views/4mse-ku6q', 'issued': '2014-09-18', 'keyword': ['traffic', 'stop', 'violations', 'electronic issued.'], 'landingPage': 'https://data.montgomerycountymd.gov/d/4mse-ku6q', 'modified': '2018-05-08', 'publisher': {'@type': 'org:Organization', 'name': 'data.montgomerycountymd.gov'}, 'theme': ['Public Safety'], 'title': 'Traffic Violations'}\n"
     ]
    }
   ],
   "source": [
    "# Lendo Metadados do arquivo\n",
    "import urllib.request, json \n",
    "with urllib.request.urlopen(\"https://catalog.data.gov/harvest/object/3d2c001e-c422-4922-a18d-f86a01a25811\") as url:\n",
    "    md_metadados = json.loads(url.read().decode())\n",
    "    print(md_metadados)\n"
   ]
  },
  {
   "cell_type": "code",
   "execution_count": 7,
   "metadata": {},
   "outputs": [
    {
     "name": "stdout",
     "output_type": "stream",
     "text": [
      "{'id': -1, 'name': 'sid', 'dataTypeName': 'meta_data', 'fieldName': ':sid', 'position': 0, 'renderTypeName': 'meta_data', 'format': {}, 'flags': ['hidden']}\n"
     ]
    }
   ],
   "source": [
    "# Lendo o primeiro item da lista\n",
    "print(columns[0])"
   ]
  },
  {
   "cell_type": "code",
   "execution_count": 8,
   "metadata": {},
   "outputs": [
    {
     "data": {
      "text/plain": [
       "[':sid',\n",
       " ':id',\n",
       " ':position',\n",
       " ':created_at',\n",
       " ':created_meta',\n",
       " ':updated_at',\n",
       " ':updated_meta',\n",
       " ':meta',\n",
       " 'date_of_stop',\n",
       " 'time_of_stop',\n",
       " 'agency',\n",
       " 'subagency',\n",
       " 'description',\n",
       " 'location',\n",
       " 'latitude',\n",
       " 'longitude',\n",
       " 'accident',\n",
       " 'belts',\n",
       " 'personal_injury',\n",
       " 'property_damage',\n",
       " 'fatal',\n",
       " 'commercial_license',\n",
       " 'hazmat',\n",
       " 'commercial_vehicle',\n",
       " 'alcohol',\n",
       " 'work_zone',\n",
       " 'state',\n",
       " 'vehicle_type',\n",
       " 'year',\n",
       " 'make',\n",
       " 'model',\n",
       " 'color',\n",
       " 'violation_type',\n",
       " 'charge',\n",
       " 'article',\n",
       " 'contributed_to_accident',\n",
       " 'race',\n",
       " 'gender',\n",
       " 'driver_city',\n",
       " 'driver_state',\n",
       " 'dl_state',\n",
       " 'arrest_type',\n",
       " 'geolocation']"
      ]
     },
     "execution_count": 8,
     "metadata": {},
     "output_type": "execute_result"
    }
   ],
   "source": [
    "# Extrair o nome das colunas:\n",
    "column_names = [col[\"fieldName\"] for col in columns]\n",
    "column_names"
   ]
  },
  {
   "cell_type": "code",
   "execution_count": 9,
   "metadata": {},
   "outputs": [],
   "source": [
    "# Vamos selecionar algumas colunas para extrair informaçoes\n",
    "good_columns = [\n",
    "    \"date_of_stop\", \n",
    "    \"time_of_stop\", \n",
    "    \"agency\", \n",
    "    \"subagency\",\n",
    "    \"description\",\n",
    "    \"location\", \n",
    "    \"latitude\", \n",
    "    \"longitude\", \n",
    "    \"vehicle_type\", \n",
    "    \"year\", \n",
    "    \"make\", \n",
    "    \"model\", \n",
    "    \"color\", \n",
    "    \"violation_type\",\n",
    "    \"race\", \n",
    "    \"gender\", \n",
    "    \"driver_state\", \n",
    "    \"driver_city\", \n",
    "    \"dl_state\",\n",
    "    \"arrest_type\"\n",
    "]\n",
    "\n",
    "data = []\n",
    "with open(filename, 'r') as f:\n",
    "    objects = ijson.items(f, 'data.item')\n",
    "    for row in objects:\n",
    "        selected_row = []\n",
    "        for item in good_columns:\n",
    "            selected_row.append(row[column_names.index(item)])\n",
    "        data.append(selected_row)"
   ]
  },
  {
   "cell_type": "code",
   "execution_count": 10,
   "metadata": {},
   "outputs": [
    {
     "data": {
      "text/plain": [
       "['2013-09-24T00:00:00',\n",
       " '17:11:00',\n",
       " 'MCP',\n",
       " '3rd district, Silver Spring',\n",
       " 'DRIVING VEHICLE ON HIGHWAY WITH SUSPENDED REGISTRATION',\n",
       " '8804 FLOWER AVE',\n",
       " None,\n",
       " None,\n",
       " '02 - Automobile',\n",
       " '2008',\n",
       " 'FORD',\n",
       " '4S',\n",
       " 'BLACK',\n",
       " 'Citation',\n",
       " 'BLACK',\n",
       " 'M',\n",
       " 'MD',\n",
       " 'TAKOMA PARK',\n",
       " 'MD',\n",
       " 'A - Marked Patrol']"
      ]
     },
     "execution_count": 10,
     "metadata": {},
     "output_type": "execute_result"
    }
   ],
   "source": [
    "data[0]"
   ]
  },
  {
   "cell_type": "code",
   "execution_count": 11,
   "metadata": {},
   "outputs": [],
   "source": [
    "import pandas as pd\n",
    "\n",
    "stops = pd.DataFrame(data, columns=good_columns)"
   ]
  },
  {
   "cell_type": "code",
   "execution_count": 12,
   "metadata": {},
   "outputs": [
    {
     "data": {
      "text/html": [
       "<div>\n",
       "<style scoped>\n",
       "    .dataframe tbody tr th:only-of-type {\n",
       "        vertical-align: middle;\n",
       "    }\n",
       "\n",
       "    .dataframe tbody tr th {\n",
       "        vertical-align: top;\n",
       "    }\n",
       "\n",
       "    .dataframe thead th {\n",
       "        text-align: right;\n",
       "    }\n",
       "</style>\n",
       "<table border=\"1\" class=\"dataframe\">\n",
       "  <thead>\n",
       "    <tr style=\"text-align: right;\">\n",
       "      <th></th>\n",
       "      <th>date_of_stop</th>\n",
       "      <th>time_of_stop</th>\n",
       "      <th>agency</th>\n",
       "      <th>subagency</th>\n",
       "      <th>description</th>\n",
       "      <th>location</th>\n",
       "      <th>latitude</th>\n",
       "      <th>longitude</th>\n",
       "      <th>vehicle_type</th>\n",
       "      <th>year</th>\n",
       "      <th>make</th>\n",
       "      <th>model</th>\n",
       "      <th>color</th>\n",
       "      <th>violation_type</th>\n",
       "      <th>race</th>\n",
       "      <th>gender</th>\n",
       "      <th>driver_state</th>\n",
       "      <th>driver_city</th>\n",
       "      <th>dl_state</th>\n",
       "      <th>arrest_type</th>\n",
       "    </tr>\n",
       "  </thead>\n",
       "  <tbody>\n",
       "    <tr>\n",
       "      <th>0</th>\n",
       "      <td>2013-09-24T00:00:00</td>\n",
       "      <td>17:11:00</td>\n",
       "      <td>MCP</td>\n",
       "      <td>3rd district, Silver Spring</td>\n",
       "      <td>DRIVING VEHICLE ON HIGHWAY WITH SUSPENDED REGI...</td>\n",
       "      <td>8804 FLOWER AVE</td>\n",
       "      <td>None</td>\n",
       "      <td>None</td>\n",
       "      <td>02 - Automobile</td>\n",
       "      <td>2008</td>\n",
       "      <td>FORD</td>\n",
       "      <td>4S</td>\n",
       "      <td>BLACK</td>\n",
       "      <td>Citation</td>\n",
       "      <td>BLACK</td>\n",
       "      <td>M</td>\n",
       "      <td>MD</td>\n",
       "      <td>TAKOMA PARK</td>\n",
       "      <td>MD</td>\n",
       "      <td>A - Marked Patrol</td>\n",
       "    </tr>\n",
       "    <tr>\n",
       "      <th>1</th>\n",
       "      <td>2017-08-29T00:00:00</td>\n",
       "      <td>10:19:00</td>\n",
       "      <td>MCP</td>\n",
       "      <td>2nd district, Bethesda</td>\n",
       "      <td>DRIVER FAILURE TO OBEY PROPERLY PLACED TRAFFIC...</td>\n",
       "      <td>WISCONSIN AVE@ ELM ST</td>\n",
       "      <td>38.981725</td>\n",
       "      <td>-77.0927566666667</td>\n",
       "      <td>02 - Automobile</td>\n",
       "      <td>2001</td>\n",
       "      <td>TOYOTA</td>\n",
       "      <td>COROLLA</td>\n",
       "      <td>GREEN</td>\n",
       "      <td>Citation</td>\n",
       "      <td>WHITE</td>\n",
       "      <td>F</td>\n",
       "      <td>VA</td>\n",
       "      <td>FAIRFAX STATION</td>\n",
       "      <td>VA</td>\n",
       "      <td>A - Marked Patrol</td>\n",
       "    </tr>\n",
       "    <tr>\n",
       "      <th>2</th>\n",
       "      <td>2014-12-01T00:00:00</td>\n",
       "      <td>12:52:00</td>\n",
       "      <td>MCP</td>\n",
       "      <td>6th district, Gaithersburg / Montgomery Village</td>\n",
       "      <td>FAILURE STOP AND YIELD AT THRU HWY</td>\n",
       "      <td>CHRISTOPHER AVE/MONTGOMERY VILLAGE AVE</td>\n",
       "      <td>39.1628883333333</td>\n",
       "      <td>-77.2290883333333</td>\n",
       "      <td>02 - Automobile</td>\n",
       "      <td>2001</td>\n",
       "      <td>HONDA</td>\n",
       "      <td>ACCORD</td>\n",
       "      <td>SILVER</td>\n",
       "      <td>Citation</td>\n",
       "      <td>BLACK</td>\n",
       "      <td>F</td>\n",
       "      <td>MD</td>\n",
       "      <td>UPPER MARLBORO</td>\n",
       "      <td>MD</td>\n",
       "      <td>A - Marked Patrol</td>\n",
       "    </tr>\n",
       "    <tr>\n",
       "      <th>3</th>\n",
       "      <td>2017-08-29T00:00:00</td>\n",
       "      <td>09:22:00</td>\n",
       "      <td>MCP</td>\n",
       "      <td>3rd district, Silver Spring</td>\n",
       "      <td>FAILURE YIELD RIGHT OF WAY ON U TURN</td>\n",
       "      <td>CHERRY HILL RD./CALVERTON BLVD.</td>\n",
       "      <td>39.056975</td>\n",
       "      <td>-76.9546333333333</td>\n",
       "      <td>02 - Automobile</td>\n",
       "      <td>1998</td>\n",
       "      <td>DODG</td>\n",
       "      <td>DAKOTA</td>\n",
       "      <td>WHITE</td>\n",
       "      <td>Citation</td>\n",
       "      <td>BLACK</td>\n",
       "      <td>M</td>\n",
       "      <td>MD</td>\n",
       "      <td>FORT WASHINGTON</td>\n",
       "      <td>MD</td>\n",
       "      <td>A - Marked Patrol</td>\n",
       "    </tr>\n",
       "    <tr>\n",
       "      <th>4</th>\n",
       "      <td>2017-08-28T00:00:00</td>\n",
       "      <td>23:41:00</td>\n",
       "      <td>MCP</td>\n",
       "      <td>6th district, Gaithersburg / Montgomery Village</td>\n",
       "      <td>FAILURE OF DR. TO MAKE LANE CHANGE TO AVAIL. L...</td>\n",
       "      <td>355 @ SOUTH WESTLAND DRIVE</td>\n",
       "      <td>None</td>\n",
       "      <td>None</td>\n",
       "      <td>02 - Automobile</td>\n",
       "      <td>2015</td>\n",
       "      <td>MINI COOPER</td>\n",
       "      <td>2S</td>\n",
       "      <td>WHITE</td>\n",
       "      <td>Citation</td>\n",
       "      <td>WHITE</td>\n",
       "      <td>M</td>\n",
       "      <td>MD</td>\n",
       "      <td>GAITHERSBURG</td>\n",
       "      <td>MD</td>\n",
       "      <td>A - Marked Patrol</td>\n",
       "    </tr>\n",
       "  </tbody>\n",
       "</table>\n",
       "</div>"
      ],
      "text/plain": [
       "          date_of_stop time_of_stop agency  \\\n",
       "0  2013-09-24T00:00:00     17:11:00    MCP   \n",
       "1  2017-08-29T00:00:00     10:19:00    MCP   \n",
       "2  2014-12-01T00:00:00     12:52:00    MCP   \n",
       "3  2017-08-29T00:00:00     09:22:00    MCP   \n",
       "4  2017-08-28T00:00:00     23:41:00    MCP   \n",
       "\n",
       "                                         subagency  \\\n",
       "0                      3rd district, Silver Spring   \n",
       "1                           2nd district, Bethesda   \n",
       "2  6th district, Gaithersburg / Montgomery Village   \n",
       "3                      3rd district, Silver Spring   \n",
       "4  6th district, Gaithersburg / Montgomery Village   \n",
       "\n",
       "                                         description  \\\n",
       "0  DRIVING VEHICLE ON HIGHWAY WITH SUSPENDED REGI...   \n",
       "1  DRIVER FAILURE TO OBEY PROPERLY PLACED TRAFFIC...   \n",
       "2                 FAILURE STOP AND YIELD AT THRU HWY   \n",
       "3               FAILURE YIELD RIGHT OF WAY ON U TURN   \n",
       "4  FAILURE OF DR. TO MAKE LANE CHANGE TO AVAIL. L...   \n",
       "\n",
       "                                 location          latitude  \\\n",
       "0                         8804 FLOWER AVE              None   \n",
       "1                   WISCONSIN AVE@ ELM ST         38.981725   \n",
       "2  CHRISTOPHER AVE/MONTGOMERY VILLAGE AVE  39.1628883333333   \n",
       "3         CHERRY HILL RD./CALVERTON BLVD.         39.056975   \n",
       "4              355 @ SOUTH WESTLAND DRIVE              None   \n",
       "\n",
       "           longitude     vehicle_type  year         make    model   color  \\\n",
       "0               None  02 - Automobile  2008         FORD       4S   BLACK   \n",
       "1  -77.0927566666667  02 - Automobile  2001       TOYOTA  COROLLA   GREEN   \n",
       "2  -77.2290883333333  02 - Automobile  2001        HONDA   ACCORD  SILVER   \n",
       "3  -76.9546333333333  02 - Automobile  1998         DODG   DAKOTA   WHITE   \n",
       "4               None  02 - Automobile  2015  MINI COOPER       2S   WHITE   \n",
       "\n",
       "  violation_type   race gender driver_state      driver_city dl_state  \\\n",
       "0       Citation  BLACK      M           MD      TAKOMA PARK       MD   \n",
       "1       Citation  WHITE      F           VA  FAIRFAX STATION       VA   \n",
       "2       Citation  BLACK      F           MD   UPPER MARLBORO       MD   \n",
       "3       Citation  BLACK      M           MD  FORT WASHINGTON       MD   \n",
       "4       Citation  WHITE      M           MD     GAITHERSBURG       MD   \n",
       "\n",
       "         arrest_type  \n",
       "0  A - Marked Patrol  \n",
       "1  A - Marked Patrol  \n",
       "2  A - Marked Patrol  \n",
       "3  A - Marked Patrol  \n",
       "4  A - Marked Patrol  "
      ]
     },
     "execution_count": 12,
     "metadata": {},
     "output_type": "execute_result"
    }
   ],
   "source": [
    "stops.head()"
   ]
  },
  {
   "cell_type": "code",
   "execution_count": 13,
   "metadata": {},
   "outputs": [
    {
     "data": {
      "text/plain": [
       "(1405722, 20)"
      ]
     },
     "execution_count": 13,
     "metadata": {},
     "output_type": "execute_result"
    }
   ],
   "source": [
    "stops.shape"
   ]
  },
  {
   "cell_type": "code",
   "execution_count": 14,
   "metadata": {},
   "outputs": [
    {
     "data": {
      "text/plain": [
       "BLACK          283887\n",
       "SILVER         257206\n",
       "WHITE          216816\n",
       "GRAY           155775\n",
       "RED            110195\n",
       "BLUE           102882\n",
       "GREEN           52294\n",
       "GOLD            44184\n",
       "BLUE, DARK      29611\n",
       "TAN             28741\n",
       "MAROON          24004\n",
       "BLUE, LIGHT     18523\n",
       "BEIGE           16182\n",
       "GREEN, DK       15235\n",
       "N/A             15214\n",
       "GREEN, LGT       7880\n",
       "BROWN            6426\n",
       "YELLOW           5305\n",
       "ORANGE           4955\n",
       "BRONZE           3264\n",
       "PURPLE           2735\n",
       "MULTICOLOR       1083\n",
       "CREAM             874\n",
       "COPPER            446\n",
       "PINK              193\n",
       "CHROME             38\n",
       "CAMOUFLAGE         28\n",
       "Name: color, dtype: int64"
      ]
     },
     "execution_count": 14,
     "metadata": {},
     "output_type": "execute_result"
    }
   ],
   "source": [
    "stops[\"color\"].value_counts()"
   ]
  },
  {
   "cell_type": "code",
   "execution_count": 15,
   "metadata": {},
   "outputs": [
    {
     "data": {
      "text/plain": [
       "A - Marked Patrol                         1161341\n",
       "Q - Marked Laser                           130766\n",
       "B - Unmarked Patrol                         44957\n",
       "S - License Plate Recognition               13704\n",
       "O - Foot Patrol                             13420\n",
       "L - Motorcycle                              12253\n",
       "E - Marked Stationary Radar                  8650\n",
       "G - Marked Moving Radar (Stationary)         6824\n",
       "R - Unmarked Laser                           5816\n",
       "I - Marked Moving Radar (Moving)             2199\n",
       "M - Marked (Off-Duty)                        2149\n",
       "H - Unmarked Moving Radar (Stationary)        983\n",
       "F - Unmarked Stationary Radar                 832\n",
       "J - Unmarked Moving Radar (Moving)            508\n",
       "C - Marked VASCAR                             460\n",
       "P - Mounted Patrol                            332\n",
       "D - Unmarked VASCAR                           285\n",
       "N - Unmarked (Off-Duty)                       188\n",
       "K - Aircraft Assist                            55\n",
       "Name: arrest_type, dtype: int64"
      ]
     },
     "execution_count": 15,
     "metadata": {},
     "output_type": "execute_result"
    }
   ],
   "source": [
    "stops[\"arrest_type\"].value_counts()"
   ]
  },
  {
   "cell_type": "code",
   "execution_count": 16,
   "metadata": {},
   "outputs": [],
   "source": [
    "import numpy as np\n",
    "\n",
    "def parse_float(x):\n",
    "    try:\n",
    "        x = float(x)\n",
    "    except Exception:\n",
    "        x = 0\n",
    "    return x\n",
    "stops[\"longitude\"] = stops[\"longitude\"].apply(parse_float)\n",
    "stops[\"latitude\"] = stops[\"latitude\"].apply(parse_float)"
   ]
  },
  {
   "cell_type": "code",
   "execution_count": null,
   "metadata": {},
   "outputs": [],
   "source": [
    "# Gerando uma amostra da tabela para gerar graficos\n",
    "stops_amt = stops.sample(frac=0.01, replace=False, weights=None, random_state=12345, axis=None)    "
   ]
  },
  {
   "cell_type": "code",
   "execution_count": 17,
   "metadata": {},
   "outputs": [],
   "source": [
    "import datetime\n",
    "def parse_full_date(row):\n",
    "    date = datetime.datetime.strptime(row[\"date_of_stop\"], \"%Y-%m-%dT%H:%M:%S\")\n",
    "    time = row[\"time_of_stop\"].split(\":\")\n",
    "    date = date.replace(hour=int(time[0]), minute = int(time[1]), second = int(time[2]))\n",
    "    return date\n",
    "\n",
    "stops[\"date\"] = stops.apply(parse_full_date, axis=1)"
   ]
  },
  {
   "cell_type": "code",
   "execution_count": 18,
   "metadata": {},
   "outputs": [
    {
     "data": {
      "text/plain": [
       "(array([189654., 244069., 228493., 217525., 219844., 306137.]),\n",
       " array([0., 1., 2., 3., 4., 5., 6.]),\n",
       " <a list of 6 Patch objects>)"
      ]
     },
     "execution_count": 18,
     "metadata": {},
     "output_type": "execute_result"
    },
    {
     "data": {
      "image/png": "[encoded data removed]",
      "text/plain": [
       "<Figure size 432x288 with 1 Axes>"
      ]
     },
     "metadata": {},
     "output_type": "display_data"
    }
   ],
   "source": [
    "import matplotlib.pyplot as plt\n",
    "%matplotlib inline \n",
    "\n",
    "plt.hist(stops[\"date\"].dt.weekday, bins=6)"
   ]
  },
  {
   "cell_type": "code",
   "execution_count": 19,
   "metadata": {},
   "outputs": [
    {
     "data": {
      "text/plain": [
       "(array([ 77326.,  62827.,  47751.,  31940.,  19376.,  12788.,  20890.,\n",
       "         49948.,  74605.,  69668.,  71300.,  59211.,  53728.,  55099.,\n",
       "         56964.,  48813.,  67400.,  70947.,  56161.,  49517.,  54629.,\n",
       "         78065., 109813., 106956.]),\n",
       " array([ 0.        ,  0.95833333,  1.91666667,  2.875     ,  3.83333333,\n",
       "         4.79166667,  5.75      ,  6.70833333,  7.66666667,  8.625     ,\n",
       "         9.58333333, 10.54166667, 11.5       , 12.45833333, 13.41666667,\n",
       "        14.375     , 15.33333333, 16.29166667, 17.25      , 18.20833333,\n",
       "        19.16666667, 20.125     , 21.08333333, 22.04166667, 23.        ]),\n",
       " <a list of 24 Patch objects>)"
      ]
     },
     "execution_count": 19,
     "metadata": {},
     "output_type": "execute_result"
    },
    {
     "data": {
      "image/png": "[encoded data removed]",
      "text/plain": [
       "<Figure size 432x288 with 1 Axes>"
      ]
     },
     "metadata": {},
     "output_type": "display_data"
    }
   ],
   "source": [
    "plt.hist(stops[\"date\"].dt.hour, bins=24)"
   ]
  },
  {
   "cell_type": "code",
   "execution_count": 20,
   "metadata": {},
   "outputs": [],
   "source": [
    "last_year = stops[stops[\"date\"] > datetime.datetime(year=2015, month=2, day=18)]"
   ]
  },
  {
   "cell_type": "code",
   "execution_count": 46,
   "metadata": {},
   "outputs": [
    {
     "name": "stdout",
     "output_type": "stream",
     "text": [
      "(104125, 21)\n"
     ]
    }
   ],
   "source": [
    "morning_rush = last_year[(last_year[\"date\"].dt.weekday < 5) & (last_year[\"date\"].dt.hour > 5) & (last_year[\"date\"].dt.hour < 10)]\n",
    "print(morning_rush.shape)\n",
    "#last_year.shape"
   ]
  },
  {
   "cell_type": "code",
   "execution_count": 23,
   "metadata": {},
   "outputs": [
    {
     "name": "stdout",
     "output_type": "stream",
     "text": [
      "Collecting folium\n",
      "  Downloading https://files.pythonhosted.org/packages/88/89/8186c3441eb2a224d2896d9a8db6ded20ddd225f109e6144494a9893a0c1/folium-0.6.0-py3-none-any.whl (79kB)\n",
      "\u001b[K    100% |████████████████████████████████| 81kB 6.4MB/s eta 0:00:01\n",
      "\u001b[?25hCollecting branca>=0.3.0 (from folium)\n",
      "  Downloading https://files.pythonhosted.org/packages/b5/18/13c018655f722896f25791f1db687db5671bd79285e05b3dd8c309b36414/branca-0.3.0-py3-none-any.whl\n",
      "Requirement already satisfied: requests in /opt/conda/lib/python3.6/site-packages (from folium)\n",
      "Requirement already satisfied: six in /opt/conda/lib/python3.6/site-packages (from folium)\n",
      "Requirement already satisfied: numpy in /opt/conda/lib/python3.6/site-packages (from folium)\n",
      "Requirement already satisfied: jinja2 in /opt/conda/lib/python3.6/site-packages (from folium)\n",
      "Requirement already satisfied: chardet<3.1.0,>=3.0.2 in /opt/conda/lib/python3.6/site-packages (from requests->folium)\n",
      "Requirement already satisfied: idna<2.7,>=2.5 in /opt/conda/lib/python3.6/site-packages (from requests->folium)\n",
      "Requirement already satisfied: urllib3<1.23,>=1.21.1 in /opt/conda/lib/python3.6/site-packages (from requests->folium)\n",
      "Requirement already satisfied: certifi>=2017.4.17 in /opt/conda/lib/python3.6/site-packages (from requests->folium)\n",
      "Requirement already satisfied: MarkupSafe>=0.23 in /opt/conda/lib/python3.6/site-packages (from jinja2->folium)\n",
      "Installing collected packages: branca, folium\n",
      "Successfully installed branca-0.3.0 folium-0.6.0\n",
      "\u001b[33mYou are using pip version 9.0.1, however version 18.1 is available.\n",
      "You should consider upgrading via the 'pip install --upgrade pip' command.\u001b[0m\n"
     ]
    }
   ],
   "source": [
    "# Instalando folium (Não é recomendado instalar por aqui, o ideal é fazer via terminal de acesso SSH ao cluster)\n",
    "import sys\n",
    "!{sys.executable} -m pip install folium"
   ]
  }
 ],
 "metadata": {
  "kernelspec": {
   "display_name": "Python 3",
   "language": "python",
   "name": "python3"
  },
  "language_info": {
   "codemirror_mode": {
    "name": "ipython",
    "version": 3
   },
   "file_extension": ".py",
   "mimetype": "text/x-python",
   "name": "python",
   "nbconvert_exporter": "python",
   "pygments_lexer": "ipython3",
   "version": "3.6.3"
  }
 },
 "nbformat": 4,
 "nbformat_minor": 2
}
